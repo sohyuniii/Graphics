{
 "cells": [
  {
   "cell_type": "code",
   "execution_count": 3,
   "metadata": {},
   "outputs": [],
   "source": [
    "import pandas as pd\n",
    "from urllib.request import Request, urlopen\n",
    "from bs4 import BeautifulSoup\n",
    "\n",
    "url = 'https://data.kma.go.kr/climate/yellowDust/selectYellowDustDayChart.do?pgmNo=112'\n",
    "req = Request(url)\n",
    "res = urlopen(req)\n",
    "html = res.read().decode('utf-8')"
   ]
  },
  {
   "cell_type": "code",
   "execution_count": 5,
   "metadata": {},
   "outputs": [],
   "source": [
    "from selenium import webdriver\n",
    "\n",
    "dr = webdriver.Chrome('C:/Users/user/Desktop/I/python/crawling/chromedriver.exe') #dr = 웹창"
   ]
  },
  {
   "cell_type": "code",
   "execution_count": 6,
   "metadata": {},
   "outputs": [],
   "source": [
    "dr.get(url)"
   ]
  },
  {
   "cell_type": "code",
   "execution_count": 21,
   "metadata": {},
   "outputs": [],
   "source": [
    "tbl = dr.find_element_by_css_selector('table[class=\"bbsList table\"]') #먼저 table을 가져 옴"
   ]
  },
  {
   "cell_type": "code",
   "execution_count": 24,
   "metadata": {},
   "outputs": [],
   "source": [
    "tbd = tbl.find_element_by_css_selector('tbody')"
   ]
  },
  {
   "cell_type": "code",
   "execution_count": 46,
   "metadata": {},
   "outputs": [],
   "source": [
    "trs = tbd.find_elements_by_css_selector('tr')"
   ]
  },
  {
   "cell_type": "code",
   "execution_count": 49,
   "metadata": {},
   "outputs": [
    {
     "name": "stdout",
     "output_type": "stream",
     "text": [
      "108 서울 2019-01-01 41\n",
      "108 서울 2019-01-02 38\n",
      "108 서울 2019-01-03 41\n",
      "108 서울 2019-01-04 77\n",
      "108 서울 2019-01-05 73\n",
      "108 서울 2019-01-06 47\n",
      "108 서울 2019-01-07 64\n",
      "108 서울 2019-01-08 44\n",
      "108 서울 2019-01-09 51\n",
      "108 서울 2019-01-10 61\n"
     ]
    }
   ],
   "source": [
    "for i in trs\n",
    "    print(i.text)"
   ]
  },
  {
   "cell_type": "code",
   "execution_count": 29,
   "metadata": {},
   "outputs": [],
   "source": [
    "tds = trs.find_element_by_css_selector('td')"
   ]
  },
  {
   "cell_type": "code",
   "execution_count": 55,
   "metadata": {},
   "outputs": [
    {
     "name": "stdout",
     "output_type": "stream",
     "text": [
      "['108', '서울', '2019-01-01', '41', '108', '서울', '2019-01-02', '38', '108', '서울', '2019-01-03', '41', '108', '서울', '2019-01-04', '77', '108', '서울', '2019-01-05', '73', '108', '서울', '2019-01-06', '47', '108', '서울', '2019-01-07', '64', '108', '서울', '2019-01-08', '44', '108', '서울', '2019-01-09', '51', '108', '서울', '2019-01-10', '61']\n"
     ]
    }
   ],
   "source": [
    "cls = []\n",
    "for tr in trs :\n",
    "    tds = tr.find_elements_by_css_selector('td')\n",
    "    for td in tds :\n",
    "        cls.append(td.text)\n",
    "    \n",
    "print(cls)"
   ]
  },
  {
   "cell_type": "code",
   "execution_count": 60,
   "metadata": {},
   "outputs": [],
   "source": [
    "dr.find_element_by_css_selector('a[title=\"2페이지\"]').click()"
   ]
  },
  {
   "cell_type": "code",
   "execution_count": null,
   "metadata": {},
   "outputs": [],
   "source": []
  }
 ],
 "metadata": {
  "kernelspec": {
   "display_name": "Python [default]",
   "language": "python",
   "name": "python3"
  },
  "language_info": {
   "codemirror_mode": {
    "name": "ipython",
    "version": 3
   },
   "file_extension": ".py",
   "mimetype": "text/x-python",
   "name": "python",
   "nbconvert_exporter": "python",
   "pygments_lexer": "ipython3",
   "version": "3.7.0"
  }
 },
 "nbformat": 4,
 "nbformat_minor": 2
}
