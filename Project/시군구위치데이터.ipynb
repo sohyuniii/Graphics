{
 "cells": [
  {
   "cell_type": "code",
   "execution_count": 48,
   "metadata": {},
   "outputs": [],
   "source": [
    "import requests\n",
    "import pandas as pd\n",
    "import json\n",
    "\n",
    "key = \"&TDCAccessKey=388cdd6f76962e4956e9caf8f6cd3841b6a8e2773b92629b01f02c80ba9187ce\"\n",
    "url = \"https://api.bigdatahub.co.kr/v1/datahub/datasets/search.json?pid=1000908\"\n",
    "page = \"&$page=3\"\n",
    "api = url + key + page"
   ]
  },
  {
   "cell_type": "code",
   "execution_count": 49,
   "metadata": {},
   "outputs": [
    {
     "data": {
      "text/plain": [
       "'https://api.bigdatahub.co.kr/v1/datahub/datasets/search.json?pid=1000908&TDCAccessKey=388cdd6f76962e4956e9caf8f6cd3841b6a8e2773b92629b01f02c80ba9187ce&$page=3'"
      ]
     },
     "execution_count": 49,
     "metadata": {},
     "output_type": "execute_result"
    }
   ],
   "source": [
    "api"
   ]
  },
  {
   "cell_type": "code",
   "execution_count": 50,
   "metadata": {},
   "outputs": [],
   "source": [
    "res = requests.get(api)"
   ]
  },
  {
   "cell_type": "code",
   "execution_count": 59,
   "metadata": {},
   "outputs": [
    {
     "data": {
      "text/plain": [
       "{'totalResult': 25,\n",
       " 'page': '3',\n",
       " 'count': 5,\n",
       " 'entry': [{'시': '서울특별시',\n",
       "   '구': '관악구',\n",
       "   '경도': '126.947435',\n",
       "   '위도': '37.464570000000002'},\n",
       "  {'시': '서울특별시',\n",
       "   '구': '서초구',\n",
       "   '경도': '127.03324499999999',\n",
       "   '위도': '37.470739999999999'},\n",
       "  {'시': '서울특별시',\n",
       "   '구': '강남구',\n",
       "   '경도': '127.06533399999999',\n",
       "   '위도': '37.493712000000002'},\n",
       "  {'시': '서울특별시', '구': '송파구', '경도': '127.118003', '위도': '37.502167999999998'},\n",
       "  {'시': '서울특별시', '구': '강동구', '경도': '127.149107', '위도': '37.547522000000001'}]}"
      ]
     },
     "execution_count": 59,
     "metadata": {},
     "output_type": "execute_result"
    }
   ],
   "source": [
    "j = res.json()\n",
    "j"
   ]
  },
  {
   "cell_type": "code",
   "execution_count": 19,
   "metadata": {},
   "outputs": [
    {
     "data": {
      "text/plain": [
       "{'시': '서울특별시', '구': '종로구', '경도': '126.97942', '위도': '37.592128000000002'}"
      ]
     },
     "execution_count": 19,
     "metadata": {},
     "output_type": "execute_result"
    }
   ],
   "source": [
    "j['entry'][0]"
   ]
  },
  {
   "cell_type": "code",
   "execution_count": null,
   "metadata": {},
   "outputs": [],
   "source": []
  },
  {
   "cell_type": "code",
   "execution_count": null,
   "metadata": {},
   "outputs": [],
   "source": [
    "key = \"&TDCAccessKey=388cdd6f76962e4956e9caf8f6cd3841b6a8e2773b92629b01f02c80ba9187ce\"\n",
    "url = \"https://api.bigdatahub.co.kr/v1/datahub/datasets/search.json?pid=1000908\"\n",
    "page = \"&$page=3\"\n",
    "api = url + key + page"
   ]
  },
  {
   "cell_type": "code",
   "execution_count": 61,
   "metadata": {},
   "outputs": [],
   "source": [
    "gu_t = list() ; lon_t = list() ; lan_t = list()\n",
    "for p in range(3) : \n",
    "    page = \"&$page=\" + str(p+1)\n",
    "    api = url + key + page\n",
    "    res = requests.get(api)\n",
    "    j = res.json()\n",
    "    gu = list() ; lon = list() ; lan = list()\n",
    "    for i in range(len(j['entry'])) :\n",
    "        obs = j['entry'][i]\n",
    "        gu.append(obs['구'])\n",
    "        lon.append(obs['경도'])\n",
    "        lan.append(obs['위도'])\n",
    "    gu_t.extend(gu)\n",
    "    lon_t.extend(lon)\n",
    "    lan_t.extend(lan)"
   ]
  },
  {
   "cell_type": "code",
   "execution_count": 66,
   "metadata": {},
   "outputs": [
    {
     "name": "stdout",
     "output_type": "stream",
     "text": [
      "number of obs : 25\n"
     ]
    },
    {
     "data": {
      "text/html": [
       "<div>\n",
       "<style scoped>\n",
       "    .dataframe tbody tr th:only-of-type {\n",
       "        vertical-align: middle;\n",
       "    }\n",
       "\n",
       "    .dataframe tbody tr th {\n",
       "        vertical-align: top;\n",
       "    }\n",
       "\n",
       "    .dataframe thead th {\n",
       "        text-align: right;\n",
       "    }\n",
       "</style>\n",
       "<table border=\"1\" class=\"dataframe\">\n",
       "  <thead>\n",
       "    <tr style=\"text-align: right;\">\n",
       "      <th></th>\n",
       "      <th>gu</th>\n",
       "      <th>lon</th>\n",
       "      <th>lan</th>\n",
       "    </tr>\n",
       "  </thead>\n",
       "  <tbody>\n",
       "    <tr>\n",
       "      <th>0</th>\n",
       "      <td>종로구</td>\n",
       "      <td>126.97942</td>\n",
       "      <td>37.592128000000002</td>\n",
       "    </tr>\n",
       "    <tr>\n",
       "      <th>1</th>\n",
       "      <td>중구</td>\n",
       "      <td>126.997985</td>\n",
       "      <td>37.557335000000002</td>\n",
       "    </tr>\n",
       "    <tr>\n",
       "      <th>2</th>\n",
       "      <td>용산구</td>\n",
       "      <td>126.981987</td>\n",
       "      <td>37.528582</td>\n",
       "    </tr>\n",
       "    <tr>\n",
       "      <th>3</th>\n",
       "      <td>성동구</td>\n",
       "      <td>127.043114</td>\n",
       "      <td>37.54824</td>\n",
       "    </tr>\n",
       "    <tr>\n",
       "      <th>4</th>\n",
       "      <td>광진구</td>\n",
       "      <td>127.088351</td>\n",
       "      <td>37.543059</td>\n",
       "    </tr>\n",
       "  </tbody>\n",
       "</table>\n",
       "</div>"
      ],
      "text/plain": [
       "    gu         lon                 lan\n",
       "0  종로구   126.97942  37.592128000000002\n",
       "1   중구  126.997985  37.557335000000002\n",
       "2  용산구  126.981987           37.528582\n",
       "3  성동구  127.043114            37.54824\n",
       "4  광진구  127.088351           37.543059"
      ]
     },
     "execution_count": 66,
     "metadata": {},
     "output_type": "execute_result"
    }
   ],
   "source": [
    "df = pd.DataFrame({\"gu\":gu_t,\"lon\":lon_t,\"lan\":lan_t})\n",
    "print('number of obs :',df.shape[0]) # 25 이면 성공!\n",
    "df.head()"
   ]
  },
  {
   "cell_type": "code",
   "execution_count": 63,
   "metadata": {},
   "outputs": [],
   "source": [
    "df.to_csv('gu.csv',index=False)"
   ]
  },
  {
   "cell_type": "code",
   "execution_count": null,
   "metadata": {},
   "outputs": [],
   "source": []
  }
 ],
 "metadata": {
  "kernelspec": {
   "display_name": "Python [default]",
   "language": "python",
   "name": "python3"
  },
  "language_info": {
   "codemirror_mode": {
    "name": "ipython",
    "version": 3
   },
   "file_extension": ".py",
   "mimetype": "text/x-python",
   "name": "python",
   "nbconvert_exporter": "python",
   "pygments_lexer": "ipython3",
   "version": "3.7.0"
  }
 },
 "nbformat": 4,
 "nbformat_minor": 2
}
